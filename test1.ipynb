{
 "cells": [
  {
   "cell_type": "markdown",
   "id": "353f5c3f",
   "metadata": {},
   "source": [
    "train clounms  / test clounms은 일조, 일사, 전력소비량이 없음\n",
    " 0   num_date_time   \n",
    " 1   건물번호         \n",
    " 2   일시            \n",
    " 3   기온(°C)      \n",
    " 4   강수량(mm)        \n",
    " 5   풍속(m/s)      \n",
    " 6   습도(%)        \n",
    " 7   일조(hr)    태양이 떠 있는 시간 중 지표면에 직접 태양빛이 도달한 총 시간 -> 구름에 가려져있으면 일조시간은 작아짐\n",
    " 8   일사(MJ/m2)   일정 시간 동안 단위 면적에 도달한 태양 복사에너지의 총량  \n",
    " 9   전력소비량(kWh)"
   ]
  },
  {
   "cell_type": "code",
   "execution_count": 68,
   "id": "d49b58d9",
   "metadata": {},
   "outputs": [],
   "source": [
    "import pandas as pd\n",
    "\n",
    "train = pd.read_csv(\"dataset/train.csv\")\n",
    "test = pd.read_csv(\"dataset/test.csv\")\n"
   ]
  },
  {
   "cell_type": "code",
   "execution_count": 69,
   "id": "c4c185dd",
   "metadata": {},
   "outputs": [
    {
     "name": "stdout",
     "output_type": "stream",
     "text": [
      "          num_date_time  건물번호           일시  기온(°C)  강수량(mm)  풍속(m/s)  습도(%)  \\\n",
      "0         1_20240601 00     1  20240601 00    18.3      0.0      2.6   82.0   \n",
      "1         1_20240601 01     1  20240601 01    18.3      0.0      2.7   82.0   \n",
      "2         1_20240601 02     1  20240601 02    18.1      0.0      2.6   80.0   \n",
      "3         1_20240601 03     1  20240601 03    18.0      0.0      2.6   81.0   \n",
      "4         1_20240601 04     1  20240601 04    17.8      0.0      1.3   81.0   \n",
      "...                 ...   ...          ...     ...      ...      ...    ...   \n",
      "203995  100_20240824 19   100  20240824 19    29.1      0.0      4.4   76.0   \n",
      "203996  100_20240824 20   100  20240824 20    28.6      0.0      3.7   74.0   \n",
      "203997  100_20240824 21   100  20240824 21    28.3      0.0      2.9   74.0   \n",
      "203998  100_20240824 22   100  20240824 22    28.0      0.0      1.7   76.0   \n",
      "203999  100_20240824 23   100  20240824 23    28.0      0.0      2.1   75.0   \n",
      "\n",
      "        일조(hr)  일사(MJ/m2)  전력소비량(kWh)  \n",
      "0          0.0       0.00     5794.80  \n",
      "1          0.0       0.00     5591.85  \n",
      "2          0.0       0.00     5338.17  \n",
      "3          0.0       0.00     4554.42  \n",
      "4          0.0       0.00     3602.25  \n",
      "...        ...        ...         ...  \n",
      "203995     0.4       0.18     3276.00  \n",
      "203996     0.0       0.00     3197.52  \n",
      "203997     0.0       0.00     3006.60  \n",
      "203998     0.0       0.00     2649.72  \n",
      "203999     0.0       0.00     2929.32  \n",
      "\n",
      "[204000 rows x 10 columns]\n"
     ]
    }
   ],
   "source": [
    "print(train)"
   ]
  },
  {
   "cell_type": "code",
   "execution_count": 70,
   "id": "010bb3fe",
   "metadata": {},
   "outputs": [
    {
     "name": "stdout",
     "output_type": "stream",
     "text": [
      "         num_date_time  건물번호           일시  기온(°C)  강수량(mm)  풍속(m/s)  습도(%)\n",
      "0        1_20240825 00     1  20240825 00    26.5      0.0      0.7   80.0\n",
      "1        1_20240825 01     1  20240825 01    26.1      0.0      0.0   80.0\n",
      "2        1_20240825 02     1  20240825 02    25.9      0.0      0.3   83.0\n",
      "3        1_20240825 03     1  20240825 03    25.7      0.0      1.1   83.0\n",
      "4        1_20240825 04     1  20240825 04    25.5      0.0      1.0   86.0\n",
      "...                ...   ...          ...     ...      ...      ...    ...\n",
      "16795  100_20240831 19   100  20240831 19    27.1      0.0      2.7   68.0\n",
      "16796  100_20240831 20   100  20240831 20    26.5      0.0      2.9   73.0\n",
      "16797  100_20240831 21   100  20240831 21    26.3      0.0      3.5   73.0\n",
      "16798  100_20240831 22   100  20240831 22    26.0      0.0      3.4   68.0\n",
      "16799  100_20240831 23   100  20240831 23    25.7      0.0      2.9   72.0\n",
      "\n",
      "[16800 rows x 7 columns]\n"
     ]
    }
   ],
   "source": [
    "print(test)"
   ]
  },
  {
   "cell_type": "code",
   "execution_count": 71,
   "id": "f9162b4c",
   "metadata": {},
   "outputs": [
    {
     "name": "stdout",
     "output_type": "stream",
     "text": [
      "         num_date_time  건물번호           일시  기온(°C)  강수량(mm)  풍속(m/s)  습도(%)\n",
      "0        1_20240825 00     1  20240825 00    26.5      0.0      0.7   80.0\n",
      "1        1_20240825 01     1  20240825 01    26.1      0.0      0.0   80.0\n",
      "2        1_20240825 02     1  20240825 02    25.9      0.0      0.3   83.0\n",
      "3        1_20240825 03     1  20240825 03    25.7      0.0      1.1   83.0\n",
      "4        1_20240825 04     1  20240825 04    25.5      0.0      1.0   86.0\n",
      "...                ...   ...          ...     ...      ...      ...    ...\n",
      "16795  100_20240831 19   100  20240831 19    27.1      0.0      2.7   68.0\n",
      "16796  100_20240831 20   100  20240831 20    26.5      0.0      2.9   73.0\n",
      "16797  100_20240831 21   100  20240831 21    26.3      0.0      3.5   73.0\n",
      "16798  100_20240831 22   100  20240831 22    26.0      0.0      3.4   68.0\n",
      "16799  100_20240831 23   100  20240831 23    25.7      0.0      2.9   72.0\n",
      "\n",
      "[16800 rows x 7 columns]\n"
     ]
    }
   ],
   "source": [
    "print(test)"
   ]
  },
  {
   "cell_type": "code",
   "execution_count": 72,
   "id": "45289d45",
   "metadata": {},
   "outputs": [
    {
     "name": "stdout",
     "output_type": "stream",
     "text": [
      "(204000, 10) (16800, 7)\n"
     ]
    }
   ],
   "source": [
    "print(train.shape,test.shape)"
   ]
  },
  {
   "cell_type": "code",
   "execution_count": 73,
   "id": "6b2a1646",
   "metadata": {},
   "outputs": [
    {
     "name": "stdout",
     "output_type": "stream",
     "text": [
      "<class 'pandas.core.frame.DataFrame'>\n",
      "RangeIndex: 204000 entries, 0 to 203999\n",
      "Data columns (total 10 columns):\n",
      " #   Column         Non-Null Count   Dtype  \n",
      "---  ------         --------------   -----  \n",
      " 0   num_date_time  204000 non-null  object \n",
      " 1   건물번호           204000 non-null  int64  \n",
      " 2   일시             204000 non-null  object \n",
      " 3   기온(°C)         204000 non-null  float64\n",
      " 4   강수량(mm)        204000 non-null  float64\n",
      " 5   풍속(m/s)        204000 non-null  float64\n",
      " 6   습도(%)          204000 non-null  float64\n",
      " 7   일조(hr)         204000 non-null  float64\n",
      " 8   일사(MJ/m2)      204000 non-null  float64\n",
      " 9   전력소비량(kWh)     204000 non-null  float64\n",
      "dtypes: float64(7), int64(1), object(2)\n",
      "memory usage: 15.6+ MB\n"
     ]
    }
   ],
   "source": [
    "train.info()"
   ]
  },
  {
   "cell_type": "code",
   "execution_count": 74,
   "id": "bb05f384",
   "metadata": {},
   "outputs": [
    {
     "name": "stdout",
     "output_type": "stream",
     "text": [
      "<class 'pandas.core.frame.DataFrame'>\n",
      "RangeIndex: 16800 entries, 0 to 16799\n",
      "Data columns (total 7 columns):\n",
      " #   Column         Non-Null Count  Dtype  \n",
      "---  ------         --------------  -----  \n",
      " 0   num_date_time  16800 non-null  object \n",
      " 1   건물번호           16800 non-null  int64  \n",
      " 2   일시             16800 non-null  object \n",
      " 3   기온(°C)         16800 non-null  float64\n",
      " 4   강수량(mm)        16800 non-null  float64\n",
      " 5   풍속(m/s)        16800 non-null  float64\n",
      " 6   습도(%)          16800 non-null  float64\n",
      "dtypes: float64(4), int64(1), object(2)\n",
      "memory usage: 918.9+ KB\n"
     ]
    }
   ],
   "source": [
    "test.info()"
   ]
  },
  {
   "cell_type": "code",
   "execution_count": 75,
   "id": "6dc943f6",
   "metadata": {},
   "outputs": [
    {
     "data": {
      "text/html": [
       "<div>\n",
       "<style scoped>\n",
       "    .dataframe tbody tr th:only-of-type {\n",
       "        vertical-align: middle;\n",
       "    }\n",
       "\n",
       "    .dataframe tbody tr th {\n",
       "        vertical-align: top;\n",
       "    }\n",
       "\n",
       "    .dataframe thead th {\n",
       "        text-align: right;\n",
       "    }\n",
       "</style>\n",
       "<table border=\"1\" class=\"dataframe\">\n",
       "  <thead>\n",
       "    <tr style=\"text-align: right;\">\n",
       "      <th></th>\n",
       "      <th>건물번호</th>\n",
       "      <th>기온(°C)</th>\n",
       "      <th>강수량(mm)</th>\n",
       "      <th>풍속(m/s)</th>\n",
       "      <th>습도(%)</th>\n",
       "      <th>일조(hr)</th>\n",
       "      <th>일사(MJ/m2)</th>\n",
       "      <th>전력소비량(kWh)</th>\n",
       "    </tr>\n",
       "  </thead>\n",
       "  <tbody>\n",
       "    <tr>\n",
       "      <th>count</th>\n",
       "      <td>204000.00</td>\n",
       "      <td>204000.00</td>\n",
       "      <td>204000.00</td>\n",
       "      <td>204000.00</td>\n",
       "      <td>204000.00</td>\n",
       "      <td>204000.00</td>\n",
       "      <td>204000.00</td>\n",
       "      <td>204000.00</td>\n",
       "    </tr>\n",
       "    <tr>\n",
       "      <th>mean</th>\n",
       "      <td>50.50</td>\n",
       "      <td>26.10</td>\n",
       "      <td>0.30</td>\n",
       "      <td>1.97</td>\n",
       "      <td>75.21</td>\n",
       "      <td>0.28</td>\n",
       "      <td>0.70</td>\n",
       "      <td>3329.58</td>\n",
       "    </tr>\n",
       "    <tr>\n",
       "      <th>std</th>\n",
       "      <td>28.87</td>\n",
       "      <td>4.05</td>\n",
       "      <td>2.05</td>\n",
       "      <td>1.32</td>\n",
       "      <td>16.38</td>\n",
       "      <td>0.40</td>\n",
       "      <td>1.02</td>\n",
       "      <td>3689.10</td>\n",
       "    </tr>\n",
       "    <tr>\n",
       "      <th>min</th>\n",
       "      <td>1.00</td>\n",
       "      <td>8.40</td>\n",
       "      <td>0.00</td>\n",
       "      <td>0.00</td>\n",
       "      <td>0.00</td>\n",
       "      <td>0.00</td>\n",
       "      <td>0.00</td>\n",
       "      <td>0.00</td>\n",
       "    </tr>\n",
       "    <tr>\n",
       "      <th>25%</th>\n",
       "      <td>25.75</td>\n",
       "      <td>23.50</td>\n",
       "      <td>0.00</td>\n",
       "      <td>1.00</td>\n",
       "      <td>64.00</td>\n",
       "      <td>0.00</td>\n",
       "      <td>0.00</td>\n",
       "      <td>1176.12</td>\n",
       "    </tr>\n",
       "    <tr>\n",
       "      <th>50%</th>\n",
       "      <td>50.50</td>\n",
       "      <td>26.30</td>\n",
       "      <td>0.00</td>\n",
       "      <td>1.80</td>\n",
       "      <td>78.00</td>\n",
       "      <td>0.00</td>\n",
       "      <td>0.05</td>\n",
       "      <td>1935.72</td>\n",
       "    </tr>\n",
       "    <tr>\n",
       "      <th>75%</th>\n",
       "      <td>75.25</td>\n",
       "      <td>28.80</td>\n",
       "      <td>0.00</td>\n",
       "      <td>2.70</td>\n",
       "      <td>88.00</td>\n",
       "      <td>0.60</td>\n",
       "      <td>1.23</td>\n",
       "      <td>3726.76</td>\n",
       "    </tr>\n",
       "    <tr>\n",
       "      <th>max</th>\n",
       "      <td>100.00</td>\n",
       "      <td>38.70</td>\n",
       "      <td>100.90</td>\n",
       "      <td>15.20</td>\n",
       "      <td>100.00</td>\n",
       "      <td>1.00</td>\n",
       "      <td>3.95</td>\n",
       "      <td>27155.94</td>\n",
       "    </tr>\n",
       "  </tbody>\n",
       "</table>\n",
       "</div>"
      ],
      "text/plain": [
       "            건물번호     기온(°C)    강수량(mm)    풍속(m/s)      습도(%)     일조(hr)  \\\n",
       "count  204000.00  204000.00  204000.00  204000.00  204000.00  204000.00   \n",
       "mean       50.50      26.10       0.30       1.97      75.21       0.28   \n",
       "std        28.87       4.05       2.05       1.32      16.38       0.40   \n",
       "min         1.00       8.40       0.00       0.00       0.00       0.00   \n",
       "25%        25.75      23.50       0.00       1.00      64.00       0.00   \n",
       "50%        50.50      26.30       0.00       1.80      78.00       0.00   \n",
       "75%        75.25      28.80       0.00       2.70      88.00       0.60   \n",
       "max       100.00      38.70     100.90      15.20     100.00       1.00   \n",
       "\n",
       "       일사(MJ/m2)  전력소비량(kWh)  \n",
       "count  204000.00   204000.00  \n",
       "mean        0.70     3329.58  \n",
       "std         1.02     3689.10  \n",
       "min         0.00        0.00  \n",
       "25%         0.00     1176.12  \n",
       "50%         0.05     1935.72  \n",
       "75%         1.23     3726.76  \n",
       "max         3.95    27155.94  "
      ]
     },
     "execution_count": 75,
     "metadata": {},
     "output_type": "execute_result"
    }
   ],
   "source": [
    "round(train.describe(),2)"
   ]
  },
  {
   "cell_type": "code",
   "execution_count": 76,
   "id": "7a164af2",
   "metadata": {},
   "outputs": [
    {
     "data": {
      "text/html": [
       "<div>\n",
       "<style scoped>\n",
       "    .dataframe tbody tr th:only-of-type {\n",
       "        vertical-align: middle;\n",
       "    }\n",
       "\n",
       "    .dataframe tbody tr th {\n",
       "        vertical-align: top;\n",
       "    }\n",
       "\n",
       "    .dataframe thead th {\n",
       "        text-align: right;\n",
       "    }\n",
       "</style>\n",
       "<table border=\"1\" class=\"dataframe\">\n",
       "  <thead>\n",
       "    <tr style=\"text-align: right;\">\n",
       "      <th></th>\n",
       "      <th>건물번호</th>\n",
       "      <th>기온(°C)</th>\n",
       "      <th>강수량(mm)</th>\n",
       "      <th>풍속(m/s)</th>\n",
       "      <th>습도(%)</th>\n",
       "    </tr>\n",
       "  </thead>\n",
       "  <tbody>\n",
       "    <tr>\n",
       "      <th>count</th>\n",
       "      <td>16800.00</td>\n",
       "      <td>16800.00</td>\n",
       "      <td>16800.00</td>\n",
       "      <td>16800.00</td>\n",
       "      <td>16800.00</td>\n",
       "    </tr>\n",
       "    <tr>\n",
       "      <th>mean</th>\n",
       "      <td>50.50</td>\n",
       "      <td>27.30</td>\n",
       "      <td>0.04</td>\n",
       "      <td>1.93</td>\n",
       "      <td>73.73</td>\n",
       "    </tr>\n",
       "    <tr>\n",
       "      <th>std</th>\n",
       "      <td>28.87</td>\n",
       "      <td>2.95</td>\n",
       "      <td>0.69</td>\n",
       "      <td>1.20</td>\n",
       "      <td>13.12</td>\n",
       "    </tr>\n",
       "    <tr>\n",
       "      <th>min</th>\n",
       "      <td>1.00</td>\n",
       "      <td>18.30</td>\n",
       "      <td>0.00</td>\n",
       "      <td>0.00</td>\n",
       "      <td>0.00</td>\n",
       "    </tr>\n",
       "    <tr>\n",
       "      <th>25%</th>\n",
       "      <td>25.75</td>\n",
       "      <td>25.20</td>\n",
       "      <td>0.00</td>\n",
       "      <td>1.00</td>\n",
       "      <td>64.00</td>\n",
       "    </tr>\n",
       "    <tr>\n",
       "      <th>50%</th>\n",
       "      <td>50.50</td>\n",
       "      <td>27.00</td>\n",
       "      <td>0.00</td>\n",
       "      <td>1.80</td>\n",
       "      <td>75.00</td>\n",
       "    </tr>\n",
       "    <tr>\n",
       "      <th>75%</th>\n",
       "      <td>75.25</td>\n",
       "      <td>29.60</td>\n",
       "      <td>0.00</td>\n",
       "      <td>2.70</td>\n",
       "      <td>84.00</td>\n",
       "    </tr>\n",
       "    <tr>\n",
       "      <th>max</th>\n",
       "      <td>100.00</td>\n",
       "      <td>35.40</td>\n",
       "      <td>28.00</td>\n",
       "      <td>7.70</td>\n",
       "      <td>100.00</td>\n",
       "    </tr>\n",
       "  </tbody>\n",
       "</table>\n",
       "</div>"
      ],
      "text/plain": [
       "           건물번호    기온(°C)   강수량(mm)   풍속(m/s)     습도(%)\n",
       "count  16800.00  16800.00  16800.00  16800.00  16800.00\n",
       "mean      50.50     27.30      0.04      1.93     73.73\n",
       "std       28.87      2.95      0.69      1.20     13.12\n",
       "min        1.00     18.30      0.00      0.00      0.00\n",
       "25%       25.75     25.20      0.00      1.00     64.00\n",
       "50%       50.50     27.00      0.00      1.80     75.00\n",
       "75%       75.25     29.60      0.00      2.70     84.00\n",
       "max      100.00     35.40     28.00      7.70    100.00"
      ]
     },
     "execution_count": 76,
     "metadata": {},
     "output_type": "execute_result"
    }
   ],
   "source": [
    "round(test.describe(),2)"
   ]
  },
  {
   "cell_type": "code",
   "execution_count": 77,
   "id": "794db959",
   "metadata": {},
   "outputs": [
    {
     "data": {
      "text/plain": [
       "num_date_time    0\n",
       "건물번호             0\n",
       "일시               0\n",
       "기온(°C)           0\n",
       "강수량(mm)          0\n",
       "풍속(m/s)          0\n",
       "습도(%)            0\n",
       "일조(hr)           0\n",
       "일사(MJ/m2)        0\n",
       "전력소비량(kWh)       0\n",
       "dtype: int64"
      ]
     },
     "execution_count": 77,
     "metadata": {},
     "output_type": "execute_result"
    }
   ],
   "source": [
    "# 결측치 확인\n",
    "train.isnull().sum()"
   ]
  },
  {
   "cell_type": "code",
   "execution_count": 78,
   "id": "987f524a",
   "metadata": {},
   "outputs": [
    {
     "data": {
      "text/plain": [
       "num_date_time    0\n",
       "건물번호             0\n",
       "일시               0\n",
       "기온(°C)           0\n",
       "강수량(mm)          0\n",
       "풍속(m/s)          0\n",
       "습도(%)            0\n",
       "dtype: int64"
      ]
     },
     "execution_count": 78,
     "metadata": {},
     "output_type": "execute_result"
    }
   ],
   "source": [
    "test.isnull().sum()"
   ]
  },
  {
   "cell_type": "code",
   "execution_count": 79,
   "id": "6a7dc8ba",
   "metadata": {},
   "outputs": [
    {
     "data": {
      "text/plain": [
       "<Axes: >"
      ]
     },
     "execution_count": 79,
     "metadata": {},
     "output_type": "execute_result"
    },
    {
     "data": {
      "image/png": "[encoded data removed]",
      "text/plain": [
       "<Figure size 640x480 with 1 Axes>"
      ]
     },
     "metadata": {},
     "output_type": "display_data"
    }
   ],
   "source": [
    "train['전력소비량(kWh)'].hist()"
   ]
  },
  {
   "cell_type": "code",
   "execution_count": 80,
   "id": "9bfa567f",
   "metadata": {},
   "outputs": [],
   "source": [
    "import pandas as pd\n",
    "import numpy as np\n",
    "from sklearn.preprocessing import LabelEncoder  \n",
    "\n",
    "# 1) 데이터 로드\n",
    "train = pd.read_csv('dataset/train.csv')\n",
    "test  = pd.read_csv('dataset/test.csv')\n",
    "\n",
    "target = train.pop('전력소비량(kWh)')\n",
    "\n",
    "\n"
   ]
  },
  {
   "cell_type": "code",
   "execution_count": 81,
   "id": "7055db25",
   "metadata": {},
   "outputs": [
    {
     "data": {
      "text/html": [
       "<div>\n",
       "<style scoped>\n",
       "    .dataframe tbody tr th:only-of-type {\n",
       "        vertical-align: middle;\n",
       "    }\n",
       "\n",
       "    .dataframe tbody tr th {\n",
       "        vertical-align: top;\n",
       "    }\n",
       "\n",
       "    .dataframe thead th {\n",
       "        text-align: right;\n",
       "    }\n",
       "</style>\n",
       "<table border=\"1\" class=\"dataframe\">\n",
       "  <thead>\n",
       "    <tr style=\"text-align: right;\">\n",
       "      <th></th>\n",
       "      <th>num_date_time</th>\n",
       "      <th>건물번호</th>\n",
       "      <th>일시</th>\n",
       "      <th>기온(°C)</th>\n",
       "      <th>강수량(mm)</th>\n",
       "      <th>풍속(m/s)</th>\n",
       "      <th>습도(%)</th>\n",
       "    </tr>\n",
       "  </thead>\n",
       "  <tbody>\n",
       "    <tr>\n",
       "      <th>0</th>\n",
       "      <td>1_20240601 00</td>\n",
       "      <td>1</td>\n",
       "      <td>20240601 00</td>\n",
       "      <td>18.3</td>\n",
       "      <td>0.0</td>\n",
       "      <td>2.6</td>\n",
       "      <td>82.0</td>\n",
       "    </tr>\n",
       "    <tr>\n",
       "      <th>1</th>\n",
       "      <td>1_20240601 01</td>\n",
       "      <td>1</td>\n",
       "      <td>20240601 01</td>\n",
       "      <td>18.3</td>\n",
       "      <td>0.0</td>\n",
       "      <td>2.7</td>\n",
       "      <td>82.0</td>\n",
       "    </tr>\n",
       "    <tr>\n",
       "      <th>2</th>\n",
       "      <td>1_20240601 02</td>\n",
       "      <td>1</td>\n",
       "      <td>20240601 02</td>\n",
       "      <td>18.1</td>\n",
       "      <td>0.0</td>\n",
       "      <td>2.6</td>\n",
       "      <td>80.0</td>\n",
       "    </tr>\n",
       "    <tr>\n",
       "      <th>3</th>\n",
       "      <td>1_20240601 03</td>\n",
       "      <td>1</td>\n",
       "      <td>20240601 03</td>\n",
       "      <td>18.0</td>\n",
       "      <td>0.0</td>\n",
       "      <td>2.6</td>\n",
       "      <td>81.0</td>\n",
       "    </tr>\n",
       "    <tr>\n",
       "      <th>4</th>\n",
       "      <td>1_20240601 04</td>\n",
       "      <td>1</td>\n",
       "      <td>20240601 04</td>\n",
       "      <td>17.8</td>\n",
       "      <td>0.0</td>\n",
       "      <td>1.3</td>\n",
       "      <td>81.0</td>\n",
       "    </tr>\n",
       "    <tr>\n",
       "      <th>...</th>\n",
       "      <td>...</td>\n",
       "      <td>...</td>\n",
       "      <td>...</td>\n",
       "      <td>...</td>\n",
       "      <td>...</td>\n",
       "      <td>...</td>\n",
       "      <td>...</td>\n",
       "    </tr>\n",
       "    <tr>\n",
       "      <th>203995</th>\n",
       "      <td>100_20240824 19</td>\n",
       "      <td>100</td>\n",
       "      <td>20240824 19</td>\n",
       "      <td>29.1</td>\n",
       "      <td>0.0</td>\n",
       "      <td>4.4</td>\n",
       "      <td>76.0</td>\n",
       "    </tr>\n",
       "    <tr>\n",
       "      <th>203996</th>\n",
       "      <td>100_20240824 20</td>\n",
       "      <td>100</td>\n",
       "      <td>20240824 20</td>\n",
       "      <td>28.6</td>\n",
       "      <td>0.0</td>\n",
       "      <td>3.7</td>\n",
       "      <td>74.0</td>\n",
       "    </tr>\n",
       "    <tr>\n",
       "      <th>203997</th>\n",
       "      <td>100_20240824 21</td>\n",
       "      <td>100</td>\n",
       "      <td>20240824 21</td>\n",
       "      <td>28.3</td>\n",
       "      <td>0.0</td>\n",
       "      <td>2.9</td>\n",
       "      <td>74.0</td>\n",
       "    </tr>\n",
       "    <tr>\n",
       "      <th>203998</th>\n",
       "      <td>100_20240824 22</td>\n",
       "      <td>100</td>\n",
       "      <td>20240824 22</td>\n",
       "      <td>28.0</td>\n",
       "      <td>0.0</td>\n",
       "      <td>1.7</td>\n",
       "      <td>76.0</td>\n",
       "    </tr>\n",
       "    <tr>\n",
       "      <th>203999</th>\n",
       "      <td>100_20240824 23</td>\n",
       "      <td>100</td>\n",
       "      <td>20240824 23</td>\n",
       "      <td>28.0</td>\n",
       "      <td>0.0</td>\n",
       "      <td>2.1</td>\n",
       "      <td>75.0</td>\n",
       "    </tr>\n",
       "  </tbody>\n",
       "</table>\n",
       "<p>204000 rows × 7 columns</p>\n",
       "</div>"
      ],
      "text/plain": [
       "          num_date_time  건물번호           일시  기온(°C)  강수량(mm)  풍속(m/s)  습도(%)\n",
       "0         1_20240601 00     1  20240601 00    18.3      0.0      2.6   82.0\n",
       "1         1_20240601 01     1  20240601 01    18.3      0.0      2.7   82.0\n",
       "2         1_20240601 02     1  20240601 02    18.1      0.0      2.6   80.0\n",
       "3         1_20240601 03     1  20240601 03    18.0      0.0      2.6   81.0\n",
       "4         1_20240601 04     1  20240601 04    17.8      0.0      1.3   81.0\n",
       "...                 ...   ...          ...     ...      ...      ...    ...\n",
       "203995  100_20240824 19   100  20240824 19    29.1      0.0      4.4   76.0\n",
       "203996  100_20240824 20   100  20240824 20    28.6      0.0      3.7   74.0\n",
       "203997  100_20240824 21   100  20240824 21    28.3      0.0      2.9   74.0\n",
       "203998  100_20240824 22   100  20240824 22    28.0      0.0      1.7   76.0\n",
       "203999  100_20240824 23   100  20240824 23    28.0      0.0      2.1   75.0\n",
       "\n",
       "[204000 rows x 7 columns]"
      ]
     },
     "execution_count": 81,
     "metadata": {},
     "output_type": "execute_result"
    }
   ],
   "source": [
    "train = train.drop(['일조(hr)', '일사(MJ/m2)'], axis=1)\n",
    "train"
   ]
  },
  {
   "cell_type": "code",
   "execution_count": 82,
   "id": "9fb2cc8c",
   "metadata": {},
   "outputs": [
    {
     "name": "stderr",
     "output_type": "stream",
     "text": [
      "C:\\Users\\MYNOTE\\AppData\\Local\\Temp\\ipykernel_2844\\4178808787.py:23: SettingWithCopyWarning: \n",
      "A value is trying to be set on a copy of a slice from a DataFrame\n",
      "\n",
      "See the caveats in the documentation: https://pandas.pydata.org/pandas-docs/stable/user_guide/indexing.html#returning-a-view-versus-a-copy\n",
      "  train.drop(['일시', '건물번호'], axis=1, inplace=True)\n",
      "C:\\Users\\MYNOTE\\AppData\\Local\\Temp\\ipykernel_2844\\4178808787.py:24: SettingWithCopyWarning: \n",
      "A value is trying to be set on a copy of a slice from a DataFrame\n",
      "\n",
      "See the caveats in the documentation: https://pandas.pydata.org/pandas-docs/stable/user_guide/indexing.html#returning-a-view-versus-a-copy\n",
      "  test .drop(['일시', '건물번호'], axis=1, inplace=True)\n"
     ]
    }
   ],
   "source": [
    "# 2) datetime 변환 및 파생 변수 생성\n",
    "for df in (train, test):\n",
    "    df['일시'] = pd.to_datetime(df['일시'])\n",
    "    df['year']    = df['일시'].dt.year\n",
    "    df['month']   = df['일시'].dt.month\n",
    "    df['day']     = df['일시'].dt.day\n",
    "    df['hour']    = df['일시'].dt.hour\n",
    "    df['weekday'] = df['일시'].dt.weekday\n",
    "    df['hour_sin'] = np.sin(2 * np.pi * df['hour'] / 24)\n",
    "    df['hour_cos'] = np.cos(2 * np.pi * df['hour'] / 24)\n",
    "\n",
    "# 3) 건물번호 Label Encoding\n",
    "combined = pd.concat([train, test])\n",
    "cols = train.select_dtypes(include='object').columns\n",
    "for col in cols:\n",
    "    le = LabelEncoder()\n",
    "    combined[col]= le.fit_transform(combined[col])\n",
    "\n",
    "n_train = len(train)\n",
    "train =  combined[:n_train]\n",
    "test = combined[n_train:]\n",
    "\n",
    "train.drop(['일시', '건물번호'], axis=1, inplace=True)\n",
    "test .drop(['일시', '건물번호'], axis=1, inplace=True)\n"
   ]
  },
  {
   "cell_type": "code",
   "execution_count": 83,
   "id": "2f7b54f9",
   "metadata": {},
   "outputs": [
    {
     "name": "stdout",
     "output_type": "stream",
     "text": [
      "스케일링 대상 컬럼: ['기온(°C)', '강수량(mm)', '풍속(m/s)', '습도(%)', 'year', 'month', 'day', 'hour', 'weekday', 'hour_sin', 'hour_cos']\n",
      "       기온(°C)    강수량(mm)    풍속(m/s)     습도(%)  year     month       day  \\\n",
      "min -4.366805  -0.148170  -1.495311 -4.591808   0.0 -1.170659 -1.638058   \n",
      "max  3.109363  49.000802  10.053973  1.513775   0.0  1.348481  1.913853   \n",
      "\n",
      "         hour   weekday  hour_sin  hour_cos  \n",
      "min -1.661325 -1.511869 -1.414214 -1.414214  \n",
      "max  1.661325  1.488338  1.414214  1.414214  \n"
     ]
    },
    {
     "name": "stderr",
     "output_type": "stream",
     "text": [
      "C:\\Users\\MYNOTE\\AppData\\Local\\Temp\\ipykernel_2844\\4234141955.py:13: SettingWithCopyWarning: \n",
      "A value is trying to be set on a copy of a slice from a DataFrame.\n",
      "Try using .loc[row_indexer,col_indexer] = value instead\n",
      "\n",
      "See the caveats in the documentation: https://pandas.pydata.org/pandas-docs/stable/user_guide/indexing.html#returning-a-view-versus-a-copy\n",
      "  train[numeric_features] = scaler.fit_transform(train[numeric_features])\n",
      "C:\\Users\\MYNOTE\\AppData\\Local\\Temp\\ipykernel_2844\\4234141955.py:14: SettingWithCopyWarning: \n",
      "A value is trying to be set on a copy of a slice from a DataFrame.\n",
      "Try using .loc[row_indexer,col_indexer] = value instead\n",
      "\n",
      "See the caveats in the documentation: https://pandas.pydata.org/pandas-docs/stable/user_guide/indexing.html#returning-a-view-versus-a-copy\n",
      "  test [numeric_features] = scaler.transform(test [numeric_features])\n"
     ]
    }
   ],
   "source": [
    "from sklearn.preprocessing import StandardScaler\n",
    "\n",
    "numeric_cols = train.select_dtypes(include=[np.number]).columns.tolist()\n",
    "\n",
    "# 3) 스케일링에서 제외할 컬럼 지정 (ID, 타깃, 필요에 따라 추가)\n",
    "exclude = ['건물번호', 'num_date_time', '전력소비량(kWh)']\n",
    "numeric_features = [c for c in numeric_cols if c not in exclude]\n",
    "\n",
    "print(\"스케일링 대상 컬럼:\", numeric_features)\n",
    "\n",
    "# 4) 스케일링\n",
    "scaler = StandardScaler()\n",
    "train[numeric_features] = scaler.fit_transform(train[numeric_features])\n",
    "test [numeric_features] = scaler.transform(test [numeric_features])\n",
    "\n",
    "# 5) 결과 확인\n",
    "print(train[numeric_features].agg(['min','max']))"
   ]
  },
  {
   "cell_type": "code",
   "execution_count": 84,
   "id": "080061cb",
   "metadata": {},
   "outputs": [
    {
     "data": {
      "text/plain": [
       "num_date_time    0\n",
       "기온(°C)           0\n",
       "강수량(mm)          0\n",
       "풍속(m/s)          0\n",
       "습도(%)            0\n",
       "year             0\n",
       "month            0\n",
       "day              0\n",
       "hour             0\n",
       "weekday          0\n",
       "hour_sin         0\n",
       "hour_cos         0\n",
       "dtype: int64"
      ]
     },
     "execution_count": 84,
     "metadata": {},
     "output_type": "execute_result"
    }
   ],
   "source": [
    "test.isnull().sum()"
   ]
  },
  {
   "cell_type": "code",
   "execution_count": 85,
   "id": "3d86688c",
   "metadata": {},
   "outputs": [
    {
     "data": {
      "text/plain": [
       "num_date_time    0\n",
       "기온(°C)           0\n",
       "강수량(mm)          0\n",
       "풍속(m/s)          0\n",
       "습도(%)            0\n",
       "year             0\n",
       "month            0\n",
       "day              0\n",
       "hour             0\n",
       "weekday          0\n",
       "hour_sin         0\n",
       "hour_cos         0\n",
       "dtype: int64"
      ]
     },
     "execution_count": 85,
     "metadata": {},
     "output_type": "execute_result"
    }
   ],
   "source": [
    "train.isnull().sum()"
   ]
  },
  {
   "cell_type": "code",
   "execution_count": 86,
   "id": "85ce0799",
   "metadata": {},
   "outputs": [
    {
     "name": "stdout",
     "output_type": "stream",
     "text": [
      "(204000, 12) (16800, 12)\n"
     ]
    }
   ],
   "source": [
    "print(train.shape,test.shape)"
   ]
  },
  {
   "cell_type": "code",
   "execution_count": 87,
   "id": "ad9b7501",
   "metadata": {},
   "outputs": [
    {
     "name": "stdout",
     "output_type": "stream",
     "text": [
      "Requirement already satisfied: xgboost in c:\\users\\mynote\\anaconda3\\lib\\site-packages (3.0.3)\n",
      "Requirement already satisfied: numpy in c:\\users\\mynote\\anaconda3\\lib\\site-packages (from xgboost) (2.1.3)\n",
      "Requirement already satisfied: scipy in c:\\users\\mynote\\anaconda3\\lib\\site-packages (from xgboost) (1.15.3)\n"
     ]
    }
   ],
   "source": [
    "# pip 로 설치\n",
    "!pip install xgboost\n"
   ]
  },
  {
   "cell_type": "code",
   "execution_count": 88,
   "id": "2c0a111f",
   "metadata": {},
   "outputs": [
    {
     "name": "stdout",
     "output_type": "stream",
     "text": [
      "Validation RMSE: 994.2945\n"
     ]
    }
   ],
   "source": [
    "\n",
    "import pandas as pd\n",
    "import numpy as np\n",
    "from sklearn.preprocessing import LabelEncoder  \n",
    "\n",
    "# 1) 데이터 로드\n",
    "train = pd.read_csv('dataset/train.csv')\n",
    "test  = pd.read_csv('dataset/test.csv')\n",
    "\n",
    "target = train.pop('전력소비량(kWh)')\n",
    "\n",
    "\n",
    "\n",
    "\n",
    "\n",
    "# 2) datetime 변환 및 파생 변수 생성\n",
    "for df in (train, test):\n",
    "    df['일시'] = pd.to_datetime(df['일시'])\n",
    "    df['year']    = df['일시'].dt.year\n",
    "    df['month']   = df['일시'].dt.month\n",
    "    df['day']     = df['일시'].dt.day\n",
    "    df['hour']    = df['일시'].dt.hour\n",
    "    df['weekday'] = df['일시'].dt.weekday\n",
    "    df['hour_sin'] = np.sin(2 * np.pi * df['hour'] / 24)\n",
    "    df['hour_cos'] = np.cos(2 * np.pi * df['hour'] / 24)\n",
    "\n",
    "# 3) 건물번호 Label Encoding\n",
    "combined = pd.concat([train, test])\n",
    "cols = train.select_dtypes(include='object').columns\n",
    "for col in cols:\n",
    "    le = LabelEncoder()\n",
    "    combined[col]= le.fit_transform(combined[col])\n",
    "\n",
    "n_train = len(train)\n",
    "train =  combined[:n_train]\n",
    "test = combined[n_train:]\n",
    "\n",
    "train.drop(['일시', '건물번호'], axis=1, inplace=True)\n",
    "test .drop(['일시', '건물번호'], axis=1, inplace=True)\n",
    "\n",
    "\n",
    "\n",
    "\n",
    "\n",
    "\n",
    "\n",
    "\n",
    "from sklearn.preprocessing import StandardScaler\n",
    "\n",
    "numeric_cols = train.select_dtypes(include=[np.number]).columns.tolist()\n",
    "\n",
    "# 3) 스케일링에서 제외할 컬럼 지정 (ID, 타깃, 필요에 따라 추가)\n",
    "exclude = ['건물번호', 'num_date_time', '전력소비량(kWh)']\n",
    "numeric_features = [c for c in numeric_cols if c not in exclude]\n",
    "\n",
    "print(\"스케일링 대상 컬럼:\", numeric_features)\n",
    "\n",
    "# 4) 스케일링\n",
    "scaler = StandardScaler()\n",
    "train[numeric_features] = scaler.fit_transform(train[numeric_features])\n",
    "test [numeric_features] = scaler.transform(test [numeric_features])\n",
    "\n",
    "# 5) 결과 확인\n",
    "print(train[numeric_features].agg(['min','max']))\n",
    "\n",
    "\n",
    "\n",
    "\n",
    "\n",
    "import xgboost as xgb\n",
    "from sklearn.model_selection import train_test_split\n",
    "from sklearn.metrics import mean_squared_error\n",
    "import numpy as np\n",
    "\n",
    "# 1) train/validation 분리\n",
    "X_tr, X_val, y_tr, y_val = train_test_split(\n",
    "    train, target,\n",
    "    test_size=0.2,\n",
    "    random_state=0\n",
    ")\n",
    "\n",
    "# 2) 모델 생성\n",
    "model = xgb.XGBRegressor(\n",
    "    n_estimators=100,\n",
    "    learning_rate=0.1,\n",
    "    max_depth=6,\n",
    "    subsample=0.8,\n",
    "    colsample_bytree=0.8,\n",
    "    random_state=0,\n",
    "    n_jobs=-1\n",
    ")\n",
    "\n",
    "# 3) 학습 (early stopping via callback)\n",
    "model.fit( X_tr, y_tr,)\n",
    "\n",
    "# 4) 검증 예측 및 RMSE 계산\n",
    "y_pred = model.predict(X_val)\n",
    "rmse = np.sqrt(mean_squared_error(y_val, y_pred))\n",
    "print(f\"Validation RMSE: {rmse:.4f}\")\n"
   ]
  },
  {
   "cell_type": "code",
   "execution_count": null,
   "id": "dc64e291",
   "metadata": {},
   "outputs": [
    {
     "name": "stdout",
     "output_type": "stream",
     "text": [
      "Validation RMSE: 934.1595\n"
     ]
    }
   ],
   "source": [
    "import pandas as pd\n",
    "import numpy as np\n",
    "from sklearn.preprocessing import LabelEncoder, StandardScaler\n",
    "from sklearn.model_selection import train_test_split\n",
    "from sklearn.metrics import mean_squared_error\n",
    "from xgboost import XGBRegressor\n",
    "\n",
    "# 1) 데이터 로드 및 타깃 분리\n",
    "train = pd.read_csv('dataset/train.csv')\n",
    "test  = pd.read_csv('dataset/test.csv')\n",
    "y     = train.pop('전력소비량(kWh)')\n",
    "\n",
    "# 2) 날짜/시간 파생 변수 생성\n",
    "for df in (train, test):\n",
    "    df['일시']      = pd.to_datetime(df['일시'])\n",
    "    df['year']     = df['일시'].dt.year\n",
    "    df['month']    = df['일시'].dt.month\n",
    "    df['day']      = df['일시'].dt.day\n",
    "    df['hour']     = df['일시'].dt.hour\n",
    "    df['weekday']  = df['일시'].dt.weekday\n",
    "    df['hour_sin'] = np.sin(2 * np.pi * df['hour'] / 24)\n",
    "    df['hour_cos'] = np.cos(2 * np.pi * df['hour'] / 24)\n",
    "\n",
    "# 3) 범주형(Label) 인코딩\n",
    "n_train = train.shape[0]\n",
    "combined = pd.concat([train, test], ignore_index=True)\n",
    "for col in train.select_dtypes(include='object').columns:\n",
    "    combined[col] = LabelEncoder().fit_transform(combined[col])\n",
    "train = combined.iloc[:n_train].reset_index(drop=True)\n",
    "test  = combined.iloc[n_train:].reset_index(drop=True)\n",
    "\n",
    "# 4) 불필요 컬럼 제거\n",
    "train.drop(['일시', '건물번호'], axis=1, inplace=True)\n",
    "test .drop(['일시', '건물번호'], axis=1, inplace=True)\n",
    "\n",
    "# 5) 수치형 컬럼 스케일링\n",
    "numeric_cols = train.select_dtypes(include=[np.number]).columns\n",
    "scaler = StandardScaler()\n",
    "train[numeric_cols] = scaler.fit_transform(train[numeric_cols])\n",
    "test [numeric_cols] = scaler.transform(test [numeric_cols])\n",
    "\n",
    "# 6) 학습/검증 분리 및 XGBoost 학습\n",
    "X_tr, X_val, y_tr, y_val = train_test_split(\n",
    "    train, y, test_size=0.2, random_state=0\n",
    ")\n",
    "model = xgb.XGBRegressor(\n",
    "    n_estimators=100,\n",
    "    learning_rate=0.1,\n",
    "    max_depth=6,\n",
    "    subsample=0.8,\n",
    "    colsample_bytree=0.8,\n",
    "    random_state=0,\n",
    "    n_jobs=-1\n",
    ")\n",
    "model.fit(X_tr, y_tr)\n",
    "\n",
    "# 7) 검증 RMSE 출력\n",
    "y_pred = model.predict(X_val)\n",
    "rmse = np.sqrt(mean_squared_error(y_val, y_pred))\n",
    "print(f\"Validation RMSE: {rmse:.4f}\")\n"
   ]
  },
  {
   "cell_type": "code",
   "execution_count": 94,
   "id": "e4acf2f6",
   "metadata": {},
   "outputs": [],
   "source": [
    "submission = pd.read_csv('dataset/sample_submission.csv')\n",
    "submission['answer'] = rmse"
   ]
  },
  {
   "cell_type": "code",
   "execution_count": 95,
   "id": "31d0f55b",
   "metadata": {},
   "outputs": [],
   "source": [
    "submission.to_csv('dataset/baseline_submission.csv', index=False)"
   ]
  },
  {
   "cell_type": "code",
   "execution_count": 11,
   "id": "1c10b0cc",
   "metadata": {},
   "outputs": [
    {
     "name": "stdout",
     "output_type": "stream",
     "text": [
      "Fitting 5 folds for each of 20 candidates, totalling 100 fits\n",
      "Best parameters: {'subsample': 0.7, 'reg_lambda': 5, 'reg_alpha': 0.1, 'n_estimators': 100, 'max_depth': 8, 'learning_rate': 0.01, 'gamma': 5, 'colsample_bytree': 0.8}\n"
     ]
    },
    {
     "ename": "TypeError",
     "evalue": "XGBModel.fit() got an unexpected keyword argument 'early_stopping_rounds'",
     "output_type": "error",
     "traceback": [
      "\u001b[1;31m---------------------------------------------------------------------------\u001b[0m",
      "\u001b[1;31mTypeError\u001b[0m                                 Traceback (most recent call last)",
      "Cell \u001b[1;32mIn[11], line 89\u001b[0m\n\u001b[0;32m     86\u001b[0m \u001b[38;5;28mprint\u001b[39m(\u001b[38;5;124m\"\u001b[39m\u001b[38;5;124mBest parameters:\u001b[39m\u001b[38;5;124m\"\u001b[39m, search\u001b[38;5;241m.\u001b[39mbest_params_)\n\u001b[0;32m     88\u001b[0m \u001b[38;5;66;03m# 8) 최종 학습 (EarlyStopping 콜백 적용)\u001b[39;00m\n\u001b[1;32m---> 89\u001b[0m best\u001b[38;5;241m.\u001b[39mfit(\n\u001b[0;32m     90\u001b[0m     X_tr, y_tr,\n\u001b[0;32m     91\u001b[0m     eval_set\u001b[38;5;241m=\u001b[39m[(X_tr, y_tr), (X_val, y_val)],\n\u001b[0;32m     92\u001b[0m     early_stopping_rounds\u001b[38;5;241m=\u001b[39m\u001b[38;5;241m20\u001b[39m,\n\u001b[0;32m     93\u001b[0m     verbose\u001b[38;5;241m=\u001b[39m\u001b[38;5;28;01mTrue\u001b[39;00m\n\u001b[0;32m     94\u001b[0m )\n\u001b[0;32m     96\u001b[0m \u001b[38;5;66;03m# 9) 검증 RMSE 출력\u001b[39;00m\n\u001b[0;32m     97\u001b[0m y_pred \u001b[38;5;241m=\u001b[39m best\u001b[38;5;241m.\u001b[39mpredict(X_val)\n",
      "File \u001b[1;32mc:\\Users\\MYNOTE\\anaconda3\\Lib\\site-packages\\xgboost\\core.py:729\u001b[0m, in \u001b[0;36mrequire_keyword_args.<locals>.throw_if.<locals>.inner_f\u001b[1;34m(*args, **kwargs)\u001b[0m\n\u001b[0;32m    727\u001b[0m \u001b[38;5;28;01mfor\u001b[39;00m k, arg \u001b[38;5;129;01min\u001b[39;00m \u001b[38;5;28mzip\u001b[39m(sig\u001b[38;5;241m.\u001b[39mparameters, args):\n\u001b[0;32m    728\u001b[0m     kwargs[k] \u001b[38;5;241m=\u001b[39m arg\n\u001b[1;32m--> 729\u001b[0m \u001b[38;5;28;01mreturn\u001b[39;00m func(\u001b[38;5;241m*\u001b[39m\u001b[38;5;241m*\u001b[39mkwargs)\n",
      "\u001b[1;31mTypeError\u001b[0m: XGBModel.fit() got an unexpected keyword argument 'early_stopping_rounds'"
     ]
    }
   ],
   "source": [
    "import pandas as pd\n",
    "import numpy as np\n",
    "from sklearn.preprocessing import LabelEncoder, RobustScaler\n",
    "from sklearn.model_selection import TimeSeriesSplit, RandomizedSearchCV, train_test_split\n",
    "from sklearn.metrics import mean_squared_error\n",
    "from xgboost import XGBRegressor\n",
    "from xgboost.callback import EarlyStopping\n",
    "\n",
    "# 1) Load data\n",
    "train = pd.read_csv('dataset/train.csv')\n",
    "test  = pd.read_csv('dataset/test.csv')\n",
    "y     = train.pop('전력소비량(kWh)')\n",
    "\n",
    "# 2) Temporal feature engineering\n",
    "for df in (train, test):\n",
    "    df['일시']     = pd.to_datetime(df['일시'])\n",
    "    df['year']     = df['일시'].dt.year\n",
    "    df['month']    = df['일시'].dt.month\n",
    "    df['day']      = df['일시'].dt.day\n",
    "    df['hour']     = df['일시'].dt.hour\n",
    "    df['weekday']  = df['일시'].dt.weekday\n",
    "    df['hour_sin']   = np.sin(2*np.pi * df['hour']/24)\n",
    "    df['hour_cos']   = np.cos(2*np.pi * df['hour']/24)\n",
    "    df['month_sin']  = np.sin(2*np.pi * df['month']/12)\n",
    "    df['month_cos']  = np.cos(2*np.pi * df['month']/12)\n",
    "    df['wday_sin']   = np.sin(2*np.pi * df['weekday']/7)\n",
    "    df['wday_cos']   = np.cos(2*np.pi * df['weekday']/7)\n",
    "\n",
    "# 3) Label encode categorical\n",
    "n_train = train.shape[0]\n",
    "combined = pd.concat([train, test], ignore_index=True)\n",
    "for col in combined.select_dtypes(include='object').columns:\n",
    "    combined[col] = LabelEncoder().fit_transform(combined[col])\n",
    "train = combined.iloc[:n_train].reset_index(drop=True)\n",
    "test  = combined.iloc[n_train:].reset_index(drop=True)\n",
    "\n",
    "# 4) Drop unused cols\n",
    "drop_cols = ['일시', '건물번호', 'day']\n",
    "train.drop(drop_cols, axis=1, inplace=True)\n",
    "test .drop(drop_cols, axis=1, inplace=True)\n",
    "\n",
    "# 5) Scale numeric\n",
    "numeric_cols = train.select_dtypes(include=[np.number]).columns\n",
    "scaler = RobustScaler()\n",
    "train[numeric_cols] = scaler.fit_transform(train[numeric_cols])\n",
    "test [numeric_cols] = scaler.transform(test [numeric_cols])\n",
    "\n",
    "# 6) Split out a hold-out set (시계열 순서 유지)\n",
    "X_tr, X_val, y_tr, y_val = train_test_split(\n",
    "    train, y,\n",
    "    test_size=0.2,\n",
    "    shuffle=False\n",
    ")\n",
    "\n",
    "# 7) Hyperparameter tuning with TimeSeriesSplit\n",
    "tscv = TimeSeriesSplit(n_splits=5)\n",
    "param_dist = {\n",
    "    'n_estimators':     [100, 300, 500],\n",
    "    'learning_rate':    [0.01, 0.05, 0.1],\n",
    "    'max_depth':        [4, 6, 8],\n",
    "    'subsample':        [0.7, 0.8, 1.0],\n",
    "    'colsample_bytree': [0.7, 0.8, 1.0],\n",
    "    'gamma':            [0, 1, 5],\n",
    "    'reg_alpha':        [0, 0.1],\n",
    "    'reg_lambda':       [1, 5],\n",
    "}\n",
    "base = XGBRegressor(\n",
    "    objective='reg:squarederror',\n",
    "    random_state=0,\n",
    "    n_jobs=-1\n",
    ")\n",
    "\n",
    "search = RandomizedSearchCV(\n",
    "    estimator=base,\n",
    "    param_distributions=param_dist,\n",
    "    n_iter=20,\n",
    "    cv=tscv,\n",
    "    scoring='neg_root_mean_squared_error',\n",
    "    verbose=1,\n",
    "    n_jobs=-1,\n",
    "    return_train_score=True,\n",
    "    random_state=0\n",
    ")\n",
    "search.fit(train, y)\n",
    "best = search.best_estimator_\n",
    "print(\"Best parameters:\", search.best_params_)\n",
    "\n",
    "# 8) 최종 학습 (EarlyStopping 콜백 적용)\n",
    "best.fit(\n",
    "    X_tr, y_tr,\n",
    "    eval_set=[(X_tr, y_tr), (X_val, y_val)],\n",
    "    early_stopping_rounds=20,\n",
    "    verbose=True\n",
    ")\n",
    "\n",
    "# 9) 검증 RMSE 출력\n",
    "y_pred = best.predict(X_val)\n",
    "rmse = np.sqrt(mean_squared_error(y_val, y_pred))\n",
    "print(f\"Validation RMSE: {rmse:.4f}\")\n"
   ]
  },
  {
   "cell_type": "code",
   "execution_count": 9,
   "id": "65b3a3fd",
   "metadata": {},
   "outputs": [
    {
     "name": "stdout",
     "output_type": "stream",
     "text": [
      "Requirement already satisfied: xgboost in c:\\users\\mynote\\anaconda3\\lib\\site-packages (3.0.3)\n",
      "Requirement already satisfied: numpy in c:\\users\\mynote\\anaconda3\\lib\\site-packages (from xgboost) (2.1.3)\n",
      "Requirement already satisfied: scipy in c:\\users\\mynote\\anaconda3\\lib\\site-packages (from xgboost) (1.15.3)\n"
     ]
    }
   ],
   "source": [
    "!pip install --upgrade xgboost"
   ]
  },
  {
   "cell_type": "code",
   "execution_count": 10,
   "id": "925ce926",
   "metadata": {},
   "outputs": [
    {
     "name": "stdout",
     "output_type": "stream",
     "text": [
      "3.0.3\n"
     ]
    }
   ],
   "source": [
    "import xgboost as xgb\n",
    "print(xgb.__version__)\n"
   ]
  }
 ],
 "metadata": {
  "kernelspec": {
   "display_name": "base",
   "language": "python",
   "name": "python3"
  },
  "language_info": {
   "codemirror_mode": {
    "name": "ipython",
    "version": 3
   },
   "file_extension": ".py",
   "mimetype": "text/x-python",
   "name": "python",
   "nbconvert_exporter": "python",
   "pygments_lexer": "ipython3",
   "version": "3.13.5"
  }
 },
 "nbformat": 4,
 "nbformat_minor": 5
}
