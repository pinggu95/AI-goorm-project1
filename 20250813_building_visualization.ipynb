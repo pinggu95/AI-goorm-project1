{
 "cells": [
  {
   "cell_type": "code",
   "execution_count": null,
   "id": "c2242660",
   "metadata": {},
   "outputs": [],
   "source": [
    "    height=520, margin=dict(l=50, r=30, t=50, b=40),\n"
   ]
  }
 ],
 "metadata": {
  "language_info": {
   "name": "python"
  }
 },
 "nbformat": 4,
 "nbformat_minor": 5
}
